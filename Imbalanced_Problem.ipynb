{
 "cells": [
  {
   "cell_type": "code",
   "execution_count": 1,
   "metadata": {},
   "outputs": [],
   "source": [
    "import pandas as pd\n",
    "import numpy as np\n",
    "import seaborn as sns\n",
    "import matplotlib.pyplot as plt\n",
    "sns.set_style('darkgrid')\n",
    "from sklearn.preprocessing import LabelEncoder\n",
    "from sklearn.model_selection import train_test_split,KFold"
   ]
  },
  {
   "cell_type": "code",
   "execution_count": 5,
   "metadata": {},
   "outputs": [
    {
     "name": "stdout",
     "output_type": "stream",
     "text": [
      "df_pca shape:  (590540, 54)\n"
     ]
    }
   ],
   "source": [
    "df = pd.read_csv('df_pca.csv', index_col=0)\n",
    "print(\"df_pca shape: \", df.shape)\n",
    "\n",
    "\n",
    "df_x = df.drop(columns=['isFraud'])"
   ]
  },
  {
   "cell_type": "code",
   "execution_count": 6,
   "metadata": {},
   "outputs": [
    {
     "data": {
      "text/html": [
       "<div>\n",
       "<style scoped>\n",
       "    .dataframe tbody tr th:only-of-type {\n",
       "        vertical-align: middle;\n",
       "    }\n",
       "\n",
       "    .dataframe tbody tr th {\n",
       "        vertical-align: top;\n",
       "    }\n",
       "\n",
       "    .dataframe thead th {\n",
       "        text-align: right;\n",
       "    }\n",
       "</style>\n",
       "<table border=\"1\" class=\"dataframe\">\n",
       "  <thead>\n",
       "    <tr style=\"text-align: right;\">\n",
       "      <th></th>\n",
       "      <th>isFraud</th>\n",
       "      <th>TransactionDT</th>\n",
       "      <th>TransactionAmt</th>\n",
       "      <th>ProductCD</th>\n",
       "      <th>card1</th>\n",
       "      <th>card2</th>\n",
       "      <th>card3</th>\n",
       "      <th>card4</th>\n",
       "      <th>card5</th>\n",
       "      <th>card6</th>\n",
       "      <th>...</th>\n",
       "      <th>PCA_V_20</th>\n",
       "      <th>PCA_V_21</th>\n",
       "      <th>PCA_V_22</th>\n",
       "      <th>PCA_V_23</th>\n",
       "      <th>PCA_V_24</th>\n",
       "      <th>PCA_V_25</th>\n",
       "      <th>PCA_V_26</th>\n",
       "      <th>PCA_V_27</th>\n",
       "      <th>PCA_V_28</th>\n",
       "      <th>PCA_V_29</th>\n",
       "    </tr>\n",
       "  </thead>\n",
       "  <tbody>\n",
       "    <tr>\n",
       "      <th>0</th>\n",
       "      <td>0</td>\n",
       "      <td>86400</td>\n",
       "      <td>68.5</td>\n",
       "      <td>4</td>\n",
       "      <td>13926</td>\n",
       "      <td>-999.0</td>\n",
       "      <td>150.0</td>\n",
       "      <td>1</td>\n",
       "      <td>142.0</td>\n",
       "      <td>1</td>\n",
       "      <td>...</td>\n",
       "      <td>-0.000039</td>\n",
       "      <td>-0.000064</td>\n",
       "      <td>-0.000048</td>\n",
       "      <td>0.000023</td>\n",
       "      <td>-0.000104</td>\n",
       "      <td>0.000022</td>\n",
       "      <td>0.000031</td>\n",
       "      <td>-0.000103</td>\n",
       "      <td>0.000057</td>\n",
       "      <td>0.000292</td>\n",
       "    </tr>\n",
       "    <tr>\n",
       "      <th>1</th>\n",
       "      <td>0</td>\n",
       "      <td>86401</td>\n",
       "      <td>29.0</td>\n",
       "      <td>4</td>\n",
       "      <td>2755</td>\n",
       "      <td>404.0</td>\n",
       "      <td>150.0</td>\n",
       "      <td>2</td>\n",
       "      <td>102.0</td>\n",
       "      <td>1</td>\n",
       "      <td>...</td>\n",
       "      <td>0.000018</td>\n",
       "      <td>-0.000025</td>\n",
       "      <td>-0.000035</td>\n",
       "      <td>0.000087</td>\n",
       "      <td>-0.000047</td>\n",
       "      <td>0.000006</td>\n",
       "      <td>0.000045</td>\n",
       "      <td>-0.000105</td>\n",
       "      <td>-0.000006</td>\n",
       "      <td>0.000276</td>\n",
       "    </tr>\n",
       "    <tr>\n",
       "      <th>2</th>\n",
       "      <td>0</td>\n",
       "      <td>86469</td>\n",
       "      <td>59.0</td>\n",
       "      <td>4</td>\n",
       "      <td>4663</td>\n",
       "      <td>490.0</td>\n",
       "      <td>150.0</td>\n",
       "      <td>4</td>\n",
       "      <td>166.0</td>\n",
       "      <td>2</td>\n",
       "      <td>...</td>\n",
       "      <td>0.000018</td>\n",
       "      <td>-0.000025</td>\n",
       "      <td>-0.000035</td>\n",
       "      <td>0.000087</td>\n",
       "      <td>-0.000047</td>\n",
       "      <td>0.000006</td>\n",
       "      <td>0.000045</td>\n",
       "      <td>-0.000105</td>\n",
       "      <td>-0.000006</td>\n",
       "      <td>0.000276</td>\n",
       "    </tr>\n",
       "    <tr>\n",
       "      <th>3</th>\n",
       "      <td>0</td>\n",
       "      <td>86499</td>\n",
       "      <td>50.0</td>\n",
       "      <td>4</td>\n",
       "      <td>18132</td>\n",
       "      <td>567.0</td>\n",
       "      <td>150.0</td>\n",
       "      <td>2</td>\n",
       "      <td>117.0</td>\n",
       "      <td>2</td>\n",
       "      <td>...</td>\n",
       "      <td>0.000348</td>\n",
       "      <td>-0.002614</td>\n",
       "      <td>-0.004376</td>\n",
       "      <td>-0.000776</td>\n",
       "      <td>0.003337</td>\n",
       "      <td>0.001268</td>\n",
       "      <td>-0.000472</td>\n",
       "      <td>-0.001277</td>\n",
       "      <td>-0.002160</td>\n",
       "      <td>0.002301</td>\n",
       "    </tr>\n",
       "    <tr>\n",
       "      <th>4</th>\n",
       "      <td>0</td>\n",
       "      <td>86506</td>\n",
       "      <td>50.0</td>\n",
       "      <td>1</td>\n",
       "      <td>4497</td>\n",
       "      <td>514.0</td>\n",
       "      <td>150.0</td>\n",
       "      <td>2</td>\n",
       "      <td>102.0</td>\n",
       "      <td>1</td>\n",
       "      <td>...</td>\n",
       "      <td>0.000048</td>\n",
       "      <td>0.000033</td>\n",
       "      <td>-0.000244</td>\n",
       "      <td>-0.000005</td>\n",
       "      <td>0.000313</td>\n",
       "      <td>-0.000006</td>\n",
       "      <td>-0.000187</td>\n",
       "      <td>0.000215</td>\n",
       "      <td>0.000011</td>\n",
       "      <td>-0.000713</td>\n",
       "    </tr>\n",
       "  </tbody>\n",
       "</table>\n",
       "<p>5 rows × 54 columns</p>\n",
       "</div>"
      ],
      "text/plain": [
       "   isFraud  TransactionDT  TransactionAmt  ProductCD  card1  card2  card3  \\\n",
       "0        0          86400            68.5          4  13926 -999.0  150.0   \n",
       "1        0          86401            29.0          4   2755  404.0  150.0   \n",
       "2        0          86469            59.0          4   4663  490.0  150.0   \n",
       "3        0          86499            50.0          4  18132  567.0  150.0   \n",
       "4        0          86506            50.0          1   4497  514.0  150.0   \n",
       "\n",
       "   card4  card5  card6  ...  PCA_V_20  PCA_V_21  PCA_V_22  PCA_V_23  PCA_V_24  \\\n",
       "0      1  142.0      1  ... -0.000039 -0.000064 -0.000048  0.000023 -0.000104   \n",
       "1      2  102.0      1  ...  0.000018 -0.000025 -0.000035  0.000087 -0.000047   \n",
       "2      4  166.0      2  ...  0.000018 -0.000025 -0.000035  0.000087 -0.000047   \n",
       "3      2  117.0      2  ...  0.000348 -0.002614 -0.004376 -0.000776  0.003337   \n",
       "4      2  102.0      1  ...  0.000048  0.000033 -0.000244 -0.000005  0.000313   \n",
       "\n",
       "   PCA_V_25  PCA_V_26  PCA_V_27  PCA_V_28  PCA_V_29  \n",
       "0  0.000022  0.000031 -0.000103  0.000057  0.000292  \n",
       "1  0.000006  0.000045 -0.000105 -0.000006  0.000276  \n",
       "2  0.000006  0.000045 -0.000105 -0.000006  0.000276  \n",
       "3  0.001268 -0.000472 -0.001277 -0.002160  0.002301  \n",
       "4 -0.000006 -0.000187  0.000215  0.000011 -0.000713  \n",
       "\n",
       "[5 rows x 54 columns]"
      ]
     },
     "execution_count": 6,
     "metadata": {},
     "output_type": "execute_result"
    }
   ],
   "source": [
    "df.head()"
   ]
  },
  {
   "cell_type": "code",
   "execution_count": 7,
   "metadata": {},
   "outputs": [
    {
     "data": {
      "text/html": [
       "<div>\n",
       "<style scoped>\n",
       "    .dataframe tbody tr th:only-of-type {\n",
       "        vertical-align: middle;\n",
       "    }\n",
       "\n",
       "    .dataframe tbody tr th {\n",
       "        vertical-align: top;\n",
       "    }\n",
       "\n",
       "    .dataframe thead th {\n",
       "        text-align: right;\n",
       "    }\n",
       "</style>\n",
       "<table border=\"1\" class=\"dataframe\">\n",
       "  <thead>\n",
       "    <tr style=\"text-align: right;\">\n",
       "      <th></th>\n",
       "      <th>TransactionDT</th>\n",
       "      <th>TransactionAmt</th>\n",
       "      <th>ProductCD</th>\n",
       "      <th>card1</th>\n",
       "      <th>card2</th>\n",
       "      <th>card3</th>\n",
       "      <th>card4</th>\n",
       "      <th>card5</th>\n",
       "      <th>card6</th>\n",
       "      <th>C1</th>\n",
       "      <th>...</th>\n",
       "      <th>PCA_V_20</th>\n",
       "      <th>PCA_V_21</th>\n",
       "      <th>PCA_V_22</th>\n",
       "      <th>PCA_V_23</th>\n",
       "      <th>PCA_V_24</th>\n",
       "      <th>PCA_V_25</th>\n",
       "      <th>PCA_V_26</th>\n",
       "      <th>PCA_V_27</th>\n",
       "      <th>PCA_V_28</th>\n",
       "      <th>PCA_V_29</th>\n",
       "    </tr>\n",
       "  </thead>\n",
       "  <tbody>\n",
       "    <tr>\n",
       "      <th>0</th>\n",
       "      <td>86400</td>\n",
       "      <td>68.5</td>\n",
       "      <td>4</td>\n",
       "      <td>13926</td>\n",
       "      <td>-999.0</td>\n",
       "      <td>150.0</td>\n",
       "      <td>1</td>\n",
       "      <td>142.0</td>\n",
       "      <td>1</td>\n",
       "      <td>1.0</td>\n",
       "      <td>...</td>\n",
       "      <td>-0.000039</td>\n",
       "      <td>-0.000064</td>\n",
       "      <td>-0.000048</td>\n",
       "      <td>0.000023</td>\n",
       "      <td>-0.000104</td>\n",
       "      <td>0.000022</td>\n",
       "      <td>0.000031</td>\n",
       "      <td>-0.000103</td>\n",
       "      <td>0.000057</td>\n",
       "      <td>0.000292</td>\n",
       "    </tr>\n",
       "    <tr>\n",
       "      <th>1</th>\n",
       "      <td>86401</td>\n",
       "      <td>29.0</td>\n",
       "      <td>4</td>\n",
       "      <td>2755</td>\n",
       "      <td>404.0</td>\n",
       "      <td>150.0</td>\n",
       "      <td>2</td>\n",
       "      <td>102.0</td>\n",
       "      <td>1</td>\n",
       "      <td>1.0</td>\n",
       "      <td>...</td>\n",
       "      <td>0.000018</td>\n",
       "      <td>-0.000025</td>\n",
       "      <td>-0.000035</td>\n",
       "      <td>0.000087</td>\n",
       "      <td>-0.000047</td>\n",
       "      <td>0.000006</td>\n",
       "      <td>0.000045</td>\n",
       "      <td>-0.000105</td>\n",
       "      <td>-0.000006</td>\n",
       "      <td>0.000276</td>\n",
       "    </tr>\n",
       "    <tr>\n",
       "      <th>2</th>\n",
       "      <td>86469</td>\n",
       "      <td>59.0</td>\n",
       "      <td>4</td>\n",
       "      <td>4663</td>\n",
       "      <td>490.0</td>\n",
       "      <td>150.0</td>\n",
       "      <td>4</td>\n",
       "      <td>166.0</td>\n",
       "      <td>2</td>\n",
       "      <td>1.0</td>\n",
       "      <td>...</td>\n",
       "      <td>0.000018</td>\n",
       "      <td>-0.000025</td>\n",
       "      <td>-0.000035</td>\n",
       "      <td>0.000087</td>\n",
       "      <td>-0.000047</td>\n",
       "      <td>0.000006</td>\n",
       "      <td>0.000045</td>\n",
       "      <td>-0.000105</td>\n",
       "      <td>-0.000006</td>\n",
       "      <td>0.000276</td>\n",
       "    </tr>\n",
       "    <tr>\n",
       "      <th>3</th>\n",
       "      <td>86499</td>\n",
       "      <td>50.0</td>\n",
       "      <td>4</td>\n",
       "      <td>18132</td>\n",
       "      <td>567.0</td>\n",
       "      <td>150.0</td>\n",
       "      <td>2</td>\n",
       "      <td>117.0</td>\n",
       "      <td>2</td>\n",
       "      <td>2.0</td>\n",
       "      <td>...</td>\n",
       "      <td>0.000348</td>\n",
       "      <td>-0.002614</td>\n",
       "      <td>-0.004376</td>\n",
       "      <td>-0.000776</td>\n",
       "      <td>0.003337</td>\n",
       "      <td>0.001268</td>\n",
       "      <td>-0.000472</td>\n",
       "      <td>-0.001277</td>\n",
       "      <td>-0.002160</td>\n",
       "      <td>0.002301</td>\n",
       "    </tr>\n",
       "    <tr>\n",
       "      <th>4</th>\n",
       "      <td>86506</td>\n",
       "      <td>50.0</td>\n",
       "      <td>1</td>\n",
       "      <td>4497</td>\n",
       "      <td>514.0</td>\n",
       "      <td>150.0</td>\n",
       "      <td>2</td>\n",
       "      <td>102.0</td>\n",
       "      <td>1</td>\n",
       "      <td>1.0</td>\n",
       "      <td>...</td>\n",
       "      <td>0.000048</td>\n",
       "      <td>0.000033</td>\n",
       "      <td>-0.000244</td>\n",
       "      <td>-0.000005</td>\n",
       "      <td>0.000313</td>\n",
       "      <td>-0.000006</td>\n",
       "      <td>-0.000187</td>\n",
       "      <td>0.000215</td>\n",
       "      <td>0.000011</td>\n",
       "      <td>-0.000713</td>\n",
       "    </tr>\n",
       "  </tbody>\n",
       "</table>\n",
       "<p>5 rows × 53 columns</p>\n",
       "</div>"
      ],
      "text/plain": [
       "   TransactionDT  TransactionAmt  ProductCD  card1  card2  card3  card4  \\\n",
       "0          86400            68.5          4  13926 -999.0  150.0      1   \n",
       "1          86401            29.0          4   2755  404.0  150.0      2   \n",
       "2          86469            59.0          4   4663  490.0  150.0      4   \n",
       "3          86499            50.0          4  18132  567.0  150.0      2   \n",
       "4          86506            50.0          1   4497  514.0  150.0      2   \n",
       "\n",
       "   card5  card6   C1  ...  PCA_V_20  PCA_V_21  PCA_V_22  PCA_V_23  PCA_V_24  \\\n",
       "0  142.0      1  1.0  ... -0.000039 -0.000064 -0.000048  0.000023 -0.000104   \n",
       "1  102.0      1  1.0  ...  0.000018 -0.000025 -0.000035  0.000087 -0.000047   \n",
       "2  166.0      2  1.0  ...  0.000018 -0.000025 -0.000035  0.000087 -0.000047   \n",
       "3  117.0      2  2.0  ...  0.000348 -0.002614 -0.004376 -0.000776  0.003337   \n",
       "4  102.0      1  1.0  ...  0.000048  0.000033 -0.000244 -0.000005  0.000313   \n",
       "\n",
       "   PCA_V_25  PCA_V_26  PCA_V_27  PCA_V_28  PCA_V_29  \n",
       "0  0.000022  0.000031 -0.000103  0.000057  0.000292  \n",
       "1  0.000006  0.000045 -0.000105 -0.000006  0.000276  \n",
       "2  0.000006  0.000045 -0.000105 -0.000006  0.000276  \n",
       "3  0.001268 -0.000472 -0.001277 -0.002160  0.002301  \n",
       "4 -0.000006 -0.000187  0.000215  0.000011 -0.000713  \n",
       "\n",
       "[5 rows x 53 columns]"
      ]
     },
     "execution_count": 7,
     "metadata": {},
     "output_type": "execute_result"
    }
   ],
   "source": [
    "df_x.head()"
   ]
  },
  {
   "cell_type": "code",
   "execution_count": 10,
   "metadata": {},
   "outputs": [
    {
     "data": {
      "text/plain": [
       "0    0\n",
       "1    0\n",
       "2    0\n",
       "3    0\n",
       "4    0\n",
       "Name: isFraud, dtype: int64"
      ]
     },
     "execution_count": 10,
     "metadata": {},
     "output_type": "execute_result"
    }
   ],
   "source": [
    "df['isFraud'].head()"
   ]
  },
  {
   "cell_type": "code",
   "execution_count": 11,
   "metadata": {},
   "outputs": [
    {
     "name": "stdout",
     "output_type": "stream",
     "text": [
      "numbers of sample：413378; numbers of postive class: 96.54%; numbers of negative class: 3.46%\n",
      "feature dimension： 53\n"
     ]
    }
   ],
   "source": [
    "#Split\n",
    "#split dataset\n",
    "X_train, X_test, y_train, y_test = train_test_split(df_x, df.iloc[:,:1], test_size=0.3, random_state=42)\n",
    "\n",
    "# class in train\n",
    "X = X_train\n",
    "y = np.array(y_train)\n",
    "n_sample = y.shape[0]\n",
    "n_pos_sample = y[y == 0].shape[0]\n",
    "n_neg_sample = y[y == 1].shape[0]\n",
    "\n",
    "print('numbers of sample：{}; numbers of postive class: {:.2%}; numbers of negative class: {:.2%}'.format(n_sample,\n",
    "                                                   n_pos_sample / n_sample,\n",
    "                                                   n_neg_sample / n_sample))\n",
    "print('feature dimension：', X.shape[1])\n"
   ]
  },
  {
   "cell_type": "code",
   "execution_count": 12,
   "metadata": {},
   "outputs": [
    {
     "name": "stdout",
     "output_type": "stream",
     "text": [
      "(413378, 53) (413378, 1)\n"
     ]
    }
   ],
   "source": [
    "print(X_train.shape, y_train.shape)"
   ]
  },
  {
   "cell_type": "code",
   "execution_count": 13,
   "metadata": {},
   "outputs": [
    {
     "name": "stdout",
     "output_type": "stream",
     "text": [
      "(177162, 1)\n"
     ]
    }
   ],
   "source": [
    "print(y_test.shape)"
   ]
  },
  {
   "cell_type": "code",
   "execution_count": 14,
   "metadata": {},
   "outputs": [
    {
     "name": "stderr",
     "output_type": "stream",
     "text": [
      "Using TensorFlow backend.\n"
     ]
    },
    {
     "ename": "KeyboardInterrupt",
     "evalue": "",
     "output_type": "error",
     "traceback": [
      "\u001b[0;31m---------------------------------------------------------------------------\u001b[0m",
      "\u001b[0;31mKeyboardInterrupt\u001b[0m                         Traceback (most recent call last)",
      "\u001b[0;32m<ipython-input-14-4b09f3d9b802>\u001b[0m in \u001b[0;36m<module>\u001b[0;34m\u001b[0m\n\u001b[1;32m      3\u001b[0m \u001b[0;34m\u001b[0m\u001b[0m\n\u001b[1;32m      4\u001b[0m \u001b[0mTomeLinks\u001b[0m \u001b[0;34m=\u001b[0m \u001b[0mTomekLinks\u001b[0m\u001b[0;34m(\u001b[0m\u001b[0mrandom_state\u001b[0m\u001b[0;34m=\u001b[0m\u001b[0;36m20\u001b[0m\u001b[0;34m)\u001b[0m\u001b[0;34m\u001b[0m\u001b[0;34m\u001b[0m\u001b[0m\n\u001b[0;32m----> 5\u001b[0;31m \u001b[0mX_train_TL\u001b[0m\u001b[0;34m,\u001b[0m \u001b[0my_train_TL\u001b[0m \u001b[0;34m=\u001b[0m \u001b[0mTomeLinks\u001b[0m\u001b[0;34m.\u001b[0m\u001b[0mfit_resample\u001b[0m\u001b[0;34m(\u001b[0m\u001b[0mX_train\u001b[0m\u001b[0;34m,\u001b[0m \u001b[0my_train\u001b[0m\u001b[0;34m.\u001b[0m\u001b[0mvalues\u001b[0m\u001b[0;34m.\u001b[0m\u001b[0mravel\u001b[0m\u001b[0;34m(\u001b[0m\u001b[0;34m)\u001b[0m\u001b[0;34m)\u001b[0m\u001b[0;34m\u001b[0m\u001b[0;34m\u001b[0m\u001b[0m\n\u001b[0m",
      "\u001b[0;32m~/anaconda3/lib/python3.7/site-packages/imblearn/base.py\u001b[0m in \u001b[0;36mfit_resample\u001b[0;34m(self, X, y)\u001b[0m\n\u001b[1;32m     82\u001b[0m             self.sampling_strategy, y, self._sampling_type)\n\u001b[1;32m     83\u001b[0m \u001b[0;34m\u001b[0m\u001b[0m\n\u001b[0;32m---> 84\u001b[0;31m         \u001b[0moutput\u001b[0m \u001b[0;34m=\u001b[0m \u001b[0mself\u001b[0m\u001b[0;34m.\u001b[0m\u001b[0m_fit_resample\u001b[0m\u001b[0;34m(\u001b[0m\u001b[0mX\u001b[0m\u001b[0;34m,\u001b[0m \u001b[0my\u001b[0m\u001b[0;34m)\u001b[0m\u001b[0;34m\u001b[0m\u001b[0;34m\u001b[0m\u001b[0m\n\u001b[0m\u001b[1;32m     85\u001b[0m \u001b[0;34m\u001b[0m\u001b[0m\n\u001b[1;32m     86\u001b[0m         \u001b[0;32mif\u001b[0m \u001b[0mbinarize_y\u001b[0m\u001b[0;34m:\u001b[0m\u001b[0;34m\u001b[0m\u001b[0;34m\u001b[0m\u001b[0m\n",
      "\u001b[0;32m~/anaconda3/lib/python3.7/site-packages/imblearn/under_sampling/_prototype_selection/_tomek_links.py\u001b[0m in \u001b[0;36m_fit_resample\u001b[0;34m(self, X, y)\u001b[0m\n\u001b[1;32m    153\u001b[0m         \u001b[0;31m# Find the nearest neighbour of every point\u001b[0m\u001b[0;34m\u001b[0m\u001b[0;34m\u001b[0m\u001b[0;34m\u001b[0m\u001b[0m\n\u001b[1;32m    154\u001b[0m         \u001b[0mnn\u001b[0m \u001b[0;34m=\u001b[0m \u001b[0mNearestNeighbors\u001b[0m\u001b[0;34m(\u001b[0m\u001b[0mn_neighbors\u001b[0m\u001b[0;34m=\u001b[0m\u001b[0;36m2\u001b[0m\u001b[0;34m,\u001b[0m \u001b[0mn_jobs\u001b[0m\u001b[0;34m=\u001b[0m\u001b[0mself\u001b[0m\u001b[0;34m.\u001b[0m\u001b[0mn_jobs\u001b[0m\u001b[0;34m)\u001b[0m\u001b[0;34m\u001b[0m\u001b[0;34m\u001b[0m\u001b[0m\n\u001b[0;32m--> 155\u001b[0;31m         \u001b[0mnn\u001b[0m\u001b[0;34m.\u001b[0m\u001b[0mfit\u001b[0m\u001b[0;34m(\u001b[0m\u001b[0mX\u001b[0m\u001b[0;34m)\u001b[0m\u001b[0;34m\u001b[0m\u001b[0;34m\u001b[0m\u001b[0m\n\u001b[0m\u001b[1;32m    156\u001b[0m         \u001b[0mnns\u001b[0m \u001b[0;34m=\u001b[0m \u001b[0mnn\u001b[0m\u001b[0;34m.\u001b[0m\u001b[0mkneighbors\u001b[0m\u001b[0;34m(\u001b[0m\u001b[0mX\u001b[0m\u001b[0;34m,\u001b[0m \u001b[0mreturn_distance\u001b[0m\u001b[0;34m=\u001b[0m\u001b[0;32mFalse\u001b[0m\u001b[0;34m)\u001b[0m\u001b[0;34m[\u001b[0m\u001b[0;34m:\u001b[0m\u001b[0;34m,\u001b[0m \u001b[0;36m1\u001b[0m\u001b[0;34m]\u001b[0m\u001b[0;34m\u001b[0m\u001b[0;34m\u001b[0m\u001b[0m\n\u001b[1;32m    157\u001b[0m \u001b[0;34m\u001b[0m\u001b[0m\n",
      "\u001b[0;32m~/anaconda3/lib/python3.7/site-packages/sklearn/neighbors/base.py\u001b[0m in \u001b[0;36mfit\u001b[0;34m(self, X, y)\u001b[0m\n\u001b[1;32m    928\u001b[0m             \u001b[0;32mor\u001b[0m \u001b[0;34m[\u001b[0m\u001b[0mn_samples\u001b[0m\u001b[0;34m,\u001b[0m \u001b[0mn_samples\u001b[0m\u001b[0;34m]\u001b[0m \u001b[0;32mif\u001b[0m \u001b[0mmetric\u001b[0m\u001b[0;34m=\u001b[0m\u001b[0;34m'precomputed'\u001b[0m\u001b[0;34m.\u001b[0m\u001b[0;34m\u001b[0m\u001b[0;34m\u001b[0m\u001b[0m\n\u001b[1;32m    929\u001b[0m         \"\"\"\n\u001b[0;32m--> 930\u001b[0;31m         \u001b[0;32mreturn\u001b[0m \u001b[0mself\u001b[0m\u001b[0;34m.\u001b[0m\u001b[0m_fit\u001b[0m\u001b[0;34m(\u001b[0m\u001b[0mX\u001b[0m\u001b[0;34m)\u001b[0m\u001b[0;34m\u001b[0m\u001b[0;34m\u001b[0m\u001b[0m\n\u001b[0m",
      "\u001b[0;32m~/anaconda3/lib/python3.7/site-packages/sklearn/neighbors/base.py\u001b[0m in \u001b[0;36m_fit\u001b[0;34m(self, X)\u001b[0m\n\u001b[1;32m    255\u001b[0m             self._tree = KDTree(X, self.leaf_size,\n\u001b[1;32m    256\u001b[0m                                 \u001b[0mmetric\u001b[0m\u001b[0;34m=\u001b[0m\u001b[0mself\u001b[0m\u001b[0;34m.\u001b[0m\u001b[0meffective_metric_\u001b[0m\u001b[0;34m,\u001b[0m\u001b[0;34m\u001b[0m\u001b[0;34m\u001b[0m\u001b[0m\n\u001b[0;32m--> 257\u001b[0;31m                                 **self.effective_metric_params_)\n\u001b[0m\u001b[1;32m    258\u001b[0m         \u001b[0;32melif\u001b[0m \u001b[0mself\u001b[0m\u001b[0;34m.\u001b[0m\u001b[0m_fit_method\u001b[0m \u001b[0;34m==\u001b[0m \u001b[0;34m'brute'\u001b[0m\u001b[0;34m:\u001b[0m\u001b[0;34m\u001b[0m\u001b[0;34m\u001b[0m\u001b[0m\n\u001b[1;32m    259\u001b[0m             \u001b[0mself\u001b[0m\u001b[0;34m.\u001b[0m\u001b[0m_tree\u001b[0m \u001b[0;34m=\u001b[0m \u001b[0;32mNone\u001b[0m\u001b[0;34m\u001b[0m\u001b[0;34m\u001b[0m\u001b[0m\n",
      "\u001b[0;31mKeyboardInterrupt\u001b[0m: "
     ]
    }
   ],
   "source": [
    "#undersampling TomeLinks\n",
    "from imblearn.under_sampling import TomekLinks\n",
    "\n",
    "TomeLinks = TomekLinks(random_state=20)\n",
    "X_train_TL, y_train_TL = TomeLinks.fit_resample(X_train, y_train.values.ravel())"
   ]
  },
  {
   "cell_type": "code",
   "execution_count": 15,
   "metadata": {},
   "outputs": [],
   "source": [
    "#random undersampling\n",
    "from imblearn.under_sampling import RandomUnderSampler\n",
    "\n",
    "RS = RandomUnderSampler(random_state=2019)\n",
    "X_train_rs, y_train_rs = RS.fit_resample(X_train, y_train.values.ravel())"
   ]
  },
  {
   "cell_type": "code",
   "execution_count": 18,
   "metadata": {},
   "outputs": [
    {
     "name": "stdout",
     "output_type": "stream",
     "text": [
      "class after random undersampling\n",
      "numbers of sample：28644; isFraud=0 is 50.00%; isFraud=1 is 50.00%\n"
     ]
    }
   ],
   "source": [
    "print('class after random undersampling')\n",
    "n_sample = y_train_rs.shape[0]\n",
    "n_pos_sample = y_train_rs[y_train_rs == 0].shape[0]\n",
    "n_neg_sample = y_train_rs[y_train_rs == 1].shape[0]\n",
    "print('numbers of sample：{}; isFraud=0 is {:.2%}; isFraud=1 is {:.2%}'.format(n_sample,\n",
    "                                                   n_pos_sample / n_sample,\n",
    "                                                   n_neg_sample / n_sample))\n"
   ]
  },
  {
   "cell_type": "code",
   "execution_count": 29,
   "metadata": {},
   "outputs": [
    {
     "name": "stderr",
     "output_type": "stream",
     "text": [
      "/Users/xiaoweifeng/anaconda3/lib/python3.7/site-packages/sklearn/utils/validation.py:724: DataConversionWarning: A column-vector y was passed when a 1d array was expected. Please change the shape of y to (n_samples, ), for example using ravel().\n",
      "  y = column_or_1d(y, warn=True)\n"
     ]
    },
    {
     "name": "stdout",
     "output_type": "stream",
     "text": [
      "class after smote\n",
      "numbers of sample：798112; isFraud=0 is 50.00%; isFraud=1 is 50.00%\n"
     ]
    }
   ],
   "source": [
    "#Oversampling SMOTE\n",
    "from imblearn.over_sampling import SMOTE\n",
    "sm = SMOTE(random_state=42)\n",
    "X, y = sm.fit_sample(X, y)\n",
    "print('class after smote')\n",
    "\n",
    "n_sample = y.shape[0]\n",
    "n_pos_sample = y[y == 0].shape[0]\n",
    "n_neg_sample = y[y == 1].shape[0]\n",
    "print('numbers of sample：{}; isFraud=0 is {:.2%}; isFraud=1 is {:.2%}'.format(n_sample,\n",
    "                                                   n_pos_sample / n_sample,\n",
    "                                                   n_neg_sample / n_sample))\n",
    "X_train = pd.DataFrame(X_train)\n",
    "X_train_Smote = pd.DataFrame(X)\n",
    "X_train_Smote.columns = X_train.columns\n",
    "y_train_Smote = pd.DataFrame(y)\n"
   ]
  },
  {
   "cell_type": "code",
   "execution_count": 51,
   "metadata": {},
   "outputs": [
    {
     "name": "stdout",
     "output_type": "stream",
     "text": [
      "(798112, 55)\n",
      "(798112, 1)\n"
     ]
    }
   ],
   "source": [
    "print(X_train_Smote.shape)\n",
    "print(y_train_Smote.shape)"
   ]
  },
  {
   "cell_type": "code",
   "execution_count": 19,
   "metadata": {},
   "outputs": [
    {
     "name": "stdout",
     "output_type": "stream",
     "text": [
      "before logistic\n",
      "clf_score:  0.9642079001140199\n",
      "Accuracy on training set: 0.965\n",
      "Accuracy on test set: 0.964\n",
      "[[170821      0]\n",
      " [  6341      0]]\n"
     ]
    }
   ],
   "source": [
    "#Logistic before solvinged imblanced\n",
    "#LogisticRegression\n",
    "from sklearn.datasets import load_iris\n",
    "from sklearn.linear_model import LogisticRegression\n",
    "from sklearn.metrics import confusion_matrix\n",
    "#before imputation\n",
    "\n",
    "clf = LogisticRegression(random_state=2,solver='lbfgs',\n",
    "                         multi_class='multinomial').fit(X_train, y_train.values.ravel())\n",
    "\n",
    "y_pred_l1 = clf.predict(X_test)\n",
    "print('before logistic')\n",
    "print('clf_score: ',clf.score(X_test, y_test.values.ravel()))\n",
    "print(\"Accuracy on training set: {:.3f}\".format(clf.score(X_train, y_train.values.ravel())))\n",
    "print(\"Accuracy on test set: {:.3f}\".format(clf.score(X_test, y_test.values.ravel())))\n",
    "print(confusion_matrix(y_test, y_pred_l1))\n"
   ]
  },
  {
   "cell_type": "code",
   "execution_count": 22,
   "metadata": {},
   "outputs": [
    {
     "name": "stdout",
     "output_type": "stream",
     "text": [
      "before resampling\n",
      "              precision    recall  f1-score   support\n",
      "\n",
      "           0       0.96      1.00      0.98    170821\n",
      "           1       0.00      0.00      0.00      6341\n",
      "\n",
      "    accuracy                           0.96    177162\n",
      "   macro avg       0.48      0.50      0.49    177162\n",
      "weighted avg       0.93      0.96      0.95    177162\n",
      "\n"
     ]
    },
    {
     "name": "stderr",
     "output_type": "stream",
     "text": [
      "/Users/xiaoweifeng/anaconda3/lib/python3.7/site-packages/sklearn/metrics/classification.py:1437: UndefinedMetricWarning: Precision and F-score are ill-defined and being set to 0.0 in labels with no predicted samples.\n",
      "  'precision', 'predicted', average, warn_for)\n",
      "/Users/xiaoweifeng/anaconda3/lib/python3.7/site-packages/sklearn/metrics/classification.py:1437: UndefinedMetricWarning: Precision and F-score are ill-defined and being set to 0.0 in labels with no predicted samples.\n",
      "  'precision', 'predicted', average, warn_for)\n",
      "/Users/xiaoweifeng/anaconda3/lib/python3.7/site-packages/sklearn/metrics/classification.py:1437: UndefinedMetricWarning: Precision and F-score are ill-defined and being set to 0.0 in labels with no predicted samples.\n",
      "  'precision', 'predicted', average, warn_for)\n"
     ]
    }
   ],
   "source": [
    "from sklearn.metrics import auc, roc_curve, classification_report\n",
    "print('before resampling')\n",
    "print(classification_report(y_test, y_pred_l1))"
   ]
  },
  {
   "cell_type": "code",
   "execution_count": 24,
   "metadata": {},
   "outputs": [
    {
     "name": "stdout",
     "output_type": "stream",
     "text": [
      "0.58503516555469\n",
      "Accuracy on training set: 0.544\n",
      "Accuracy on test set: 0.585\n",
      "[[100521  70300]\n",
      " [  3216   3125]]\n"
     ]
    }
   ],
   "source": [
    "#radom sampling\n",
    "clf = LogisticRegression(random_state=2,solver='lbfgs',\n",
    "                         multi_class='multinomial').fit(X_train_rs, y_train_rs.ravel())\n",
    "\n",
    "y_pred_l2 = clf.predict(X_test)\n",
    "print(clf.score(X_test, y_test.values.ravel()))\n",
    "print(\"Accuracy on training set: {:.3f}\".format(clf.score(X_train_rs, y_train_rs.ravel())))\n",
    "print(\"Accuracy on test set: {:.3f}\".format(clf.score(X_test, y_test)))\n",
    "print(confusion_matrix(y_test, y_pred_l2))\n"
   ]
  },
  {
   "cell_type": "code",
   "execution_count": 27,
   "metadata": {},
   "outputs": [
    {
     "name": "stdout",
     "output_type": "stream",
     "text": [
      "random undersampling\n",
      "              precision    recall  f1-score   support\n",
      "\n",
      "           0       0.97      0.59      0.73    170821\n",
      "           1       0.04      0.49      0.08      6341\n",
      "\n",
      "    accuracy                           0.59    177162\n",
      "   macro avg       0.51      0.54      0.41    177162\n",
      "weighted avg       0.94      0.59      0.71    177162\n",
      "\n"
     ]
    }
   ],
   "source": [
    "print(\"random undersampling\")\n",
    "print(classification_report(y_test, y_pred_l2))"
   ]
  },
  {
   "cell_type": "code",
   "execution_count": 16,
   "metadata": {},
   "outputs": [
    {
     "name": "stdout",
     "output_type": "stream",
     "text": [
      "after logistic\n",
      "Accuracy on training set: 0.965\n",
      "Accuracy on test set: 0.964\n",
      "[[170821      0]\n",
      " [  6341      0]]\n"
     ]
    }
   ],
   "source": [
    "#after imputation TmoteLink\n",
    "clf = LogisticRegression(random_state=2, solver='lbfgs',\n",
    "                         multi_class='multinomial').fit(X_train_TL, y_train_TL)\n",
    "\n",
    "y_pred_l3 = clf.predict(X_test)\n",
    "\n",
    "\n",
    "\n",
    "# clf.score(X_test_fill, y_test.values.ravel())\n",
    "print('after logistic')\n",
    "print(\"Accuracy on training set: {:.3f}\".format(clf.score(X_train_TL, y_train_TL)))\n",
    "print(\"Accuracy on test set: {:.3f}\".format(clf.score(X_test, y_test.values)))\n",
    "print(confusion_matrix(y_test, y_pred_l3))\n"
   ]
  },
  {
   "cell_type": "code",
   "execution_count": 41,
   "metadata": {},
   "outputs": [
    {
     "name": "stdout",
     "output_type": "stream",
     "text": [
      "              precision    recall  f1-score   support\n",
      "\n",
      "           0       0.97      0.54      0.70    170821\n",
      "           1       0.04      0.50      0.07      6341\n",
      "\n",
      "    accuracy                           0.54    177162\n",
      "   macro avg       0.50      0.52      0.38    177162\n",
      "weighted avg       0.93      0.54      0.67    177162\n",
      "\n"
     ]
    }
   ],
   "source": [
    "print(classification_report(y_test, y_pred_l3))"
   ]
  },
  {
   "cell_type": "code",
   "execution_count": 30,
   "metadata": {},
   "outputs": [
    {
     "name": "stdout",
     "output_type": "stream",
     "text": [
      "after logistic\n",
      "Accuracy on training set: 0.524\n",
      "Accuracy on test set: 0.540\n",
      "[[92508 78313]\n",
      " [ 3150  3191]]\n"
     ]
    }
   ],
   "source": [
    "#after oversampling(smote)\n",
    "clf = LogisticRegression(random_state=2, solver='lbfgs',\n",
    "                         multi_class='multinomial').fit(X_train_Smote, y_train_Smote.values.ravel())\n",
    "\n",
    "y_pred_l4 = clf.predict(X_test)\n",
    "\n",
    "\n",
    "\n",
    "# clf.score(X_test_fill, y_test.values.ravel())\n",
    "print('after logistic')\n",
    "print(\"Accuracy on training set: {:.3f}\".format(clf.score(X_train_Smote, y_train_Smote.values.ravel())))\n",
    "print(\"Accuracy on test set: {:.3f}\".format(clf.score(X_test, y_test.values.ravel())))\n",
    "print(confusion_matrix(y_test, y_pred_l4))\n",
    "\n"
   ]
  },
  {
   "cell_type": "code",
   "execution_count": 31,
   "metadata": {},
   "outputs": [
    {
     "name": "stdout",
     "output_type": "stream",
     "text": [
      "SMOTE\n",
      "              precision    recall  f1-score   support\n",
      "\n",
      "           0       0.97      0.54      0.69    170821\n",
      "           1       0.04      0.50      0.07      6341\n",
      "\n",
      "    accuracy                           0.54    177162\n",
      "   macro avg       0.50      0.52      0.38    177162\n",
      "weighted avg       0.93      0.54      0.67    177162\n",
      "\n"
     ]
    }
   ],
   "source": [
    "print('SMOTE')\n",
    "print(classification_report(y_test, y_pred_l4))"
   ]
  },
  {
   "cell_type": "code",
   "execution_count": 22,
   "metadata": {},
   "outputs": [
    {
     "name": "stdout",
     "output_type": "stream",
     "text": [
      "(413378, 55)\n",
      "(413378,)\n"
     ]
    }
   ],
   "source": [
    "print(X_train.shape)\n",
    "print(y_train.shape)"
   ]
  },
  {
   "cell_type": "code",
   "execution_count": 32,
   "metadata": {},
   "outputs": [
    {
     "name": "stdout",
     "output_type": "stream",
     "text": [
      "Accuracy on training set: 0.875\n",
      "Accuracy on test set: 0.872\n"
     ]
    }
   ],
   "source": [
    "# Decision Tree\n",
    "\n",
    "from sklearn.tree import DecisionTreeClassifier\n",
    "\n",
    "tree = DecisionTreeClassifier(random_state=0, max_depth = 10, class_weight='balanced')\n",
    "tree.fit(X_train, y_train)\n",
    "y_pred_tree = tree.predict(X_test)\n",
    "print(\"Accuracy on training set: {:.3f}\".format(tree.score(X_train, y_train)))\n",
    "print(\"Accuracy on test set: {:.3f}\".format(tree.score(X_test, y_test)))"
   ]
  },
  {
   "cell_type": "code",
   "execution_count": 33,
   "metadata": {},
   "outputs": [
    {
     "name": "stdout",
     "output_type": "stream",
     "text": [
      "Decision Tree\n",
      "              precision    recall  f1-score   support\n",
      "\n",
      "           0       0.99      0.88      0.93    170821\n",
      "           1       0.18      0.72      0.29      6341\n",
      "\n",
      "    accuracy                           0.87    177162\n",
      "   macro avg       0.58      0.80      0.61    177162\n",
      "weighted avg       0.96      0.87      0.91    177162\n",
      "\n"
     ]
    }
   ],
   "source": [
    "print(\"Decision Tree\")\n",
    "print(classification_report(y_test, y_pred_tree))"
   ]
  },
  {
   "cell_type": "code",
   "execution_count": null,
   "metadata": {},
   "outputs": [],
   "source": []
  }
 ],
 "metadata": {
  "kernelspec": {
   "display_name": "Python 3",
   "language": "python",
   "name": "python3"
  },
  "language_info": {
   "codemirror_mode": {
    "name": "ipython",
    "version": 3
   },
   "file_extension": ".py",
   "mimetype": "text/x-python",
   "name": "python",
   "nbconvert_exporter": "python",
   "pygments_lexer": "ipython3",
   "version": "3.7.3"
  }
 },
 "nbformat": 4,
 "nbformat_minor": 2
}
